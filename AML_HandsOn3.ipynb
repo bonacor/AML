{
 "cells": [
  {
   "cell_type": "markdown",
   "metadata": {},
   "source": [
    "# Python 101 (a crash course for students)"
   ]
  },
  {
   "cell_type": "markdown",
   "metadata": {},
   "source": [
    "Just something quick and simple on ***Python*** you need to know: mainly basic syntax and data structures. \n",
    "\n",
    "*DISCLAIMER: This material has to be intended as a pragmatic shortcut to move on, and should NOT prevent you from attending a complete python course/tutorial: actually this should be an encouragement to do so!*"
   ]
  },
  {
   "cell_type": "markdown",
   "metadata": {},
   "source": [
    "## Python as a calculator"
   ]
  },
  {
   "cell_type": "code",
   "execution_count": null,
   "metadata": {
    "collapsed": false
   },
   "outputs": [],
   "source": [
    "2+85858585"
   ]
  },
  {
   "cell_type": "code",
   "execution_count": null,
   "metadata": {
    "collapsed": false
   },
   "outputs": [],
   "source": [
    "100-5"
   ]
  },
  {
   "cell_type": "code",
   "execution_count": null,
   "metadata": {
    "collapsed": false
   },
   "outputs": [],
   "source": [
    "100 - .5"
   ]
  },
  {
   "cell_type": "code",
   "execution_count": null,
   "metadata": {
    "collapsed": false
   },
   "outputs": [],
   "source": [
    "4/2"
   ]
  },
  {
   "cell_type": "code",
   "execution_count": null,
   "metadata": {
    "collapsed": false
   },
   "outputs": [],
   "source": [
    "5//2"
   ]
  },
  {
   "cell_type": "markdown",
   "metadata": {},
   "source": [
    "\n",
    "Note that we are using python 2.7. In python >=3 the division among integer gives a real, not a integer as before (and to have back the division among integer giving an integer you need to type e.g.\n",
    "    \n",
    "    2 // 3\n",
    "\n",
    "Or in general you convert one into float."
   ]
  },
  {
   "cell_type": "code",
   "execution_count": null,
   "metadata": {
    "collapsed": false
   },
   "outputs": [],
   "source": [
    "5./2\n"
   ]
  },
  {
   "cell_type": "code",
   "execution_count": null,
   "metadata": {
    "collapsed": false,
    "scrolled": true
   },
   "outputs": [],
   "source": [
    "x=4\n",
    "y=x*2"
   ]
  },
  {
   "cell_type": "markdown",
   "metadata": {},
   "source": [
    "Not only real numbers.. also complex numbers."
   ]
  },
  {
   "cell_type": "code",
   "execution_count": null,
   "metadata": {
    "collapsed": false,
    "scrolled": false
   },
   "outputs": [],
   "source": [
    "2j * (1 + 3j)"
   ]
  },
  {
   "cell_type": "markdown",
   "metadata": {},
   "source": [
    "If you want more math:\n",
    "\n",
    "    import math\n",
    "\n",
    "If you want more math with complex numbers:\n",
    "\n",
    "    import cmath"
   ]
  },
  {
   "cell_type": "code",
   "execution_count": null,
   "metadata": {
    "collapsed": false
   },
   "outputs": [],
   "source": [
    "import math"
   ]
  },
  {
   "cell_type": "code",
   "execution_count": null,
   "metadata": {
    "collapsed": false
   },
   "outputs": [],
   "source": [
    "print(dir(math))"
   ]
  },
  {
   "cell_type": "markdown",
   "metadata": {},
   "source": [
    "You get a list of all functions available in math. If you want to use one of them, just type:\n",
    "\n",
    "    math.[function-name]\n",
    "\n",
    "Examples below."
   ]
  },
  {
   "cell_type": "code",
   "execution_count": null,
   "metadata": {
    "collapsed": false
   },
   "outputs": [],
   "source": [
    "x = math.sin(90)\n",
    "x"
   ]
  },
  {
   "cell_type": "code",
   "execution_count": null,
   "metadata": {
    "collapsed": false
   },
   "outputs": [],
   "source": [
    "y = math.exp(1)\n",
    "y"
   ]
  },
  {
   "cell_type": "code",
   "execution_count": null,
   "metadata": {
    "collapsed": false
   },
   "outputs": [],
   "source": [
    "z = math.pi\n",
    "z"
   ]
  },
  {
   "cell_type": "code",
   "execution_count": null,
   "metadata": {
    "collapsed": false
   },
   "outputs": [],
   "source": [
    "help(dir(math)) # NOTE: this is long!"
   ]
  },
  {
   "cell_type": "markdown",
   "metadata": {},
   "source": [
    "Presumably you do not want just \"help!\", more like \"help me on a single function\". This has a much more readable and focussed output:"
   ]
  },
  {
   "cell_type": "code",
   "execution_count": null,
   "metadata": {
    "collapsed": false
   },
   "outputs": [],
   "source": [
    "help(math.log)"
   ]
  },
  {
   "cell_type": "markdown",
   "metadata": {},
   "source": [
    "## Importing libraries"
   ]
  },
  {
   "cell_type": "markdown",
   "metadata": {},
   "source": [
    "Above you already imported a library:\n",
    "\n",
    "    import math\n",
    "    \n",
    "If you need just one of few functions and you are lazy about printing again and again the library name, just import those functions only:"
   ]
  },
  {
   "cell_type": "code",
   "execution_count": null,
   "metadata": {
    "collapsed": false,
    "scrolled": true
   },
   "outputs": [],
   "source": [
    "from math import log, pi\n",
    "k = log(pi)\n",
    "k"
   ]
  },
  {
   "cell_type": "markdown",
   "metadata": {},
   "source": [
    "Note, you did NOT do any \"import math\" as a whole in the example above. You just imported what you needed."
   ]
  },
  {
   "cell_type": "markdown",
   "metadata": {},
   "source": [
    "NOTE: Sometimes you read you could also do\n",
    "\n",
    "    from math import *\n",
    "\n",
    "which logically is just fine. Issue here is that you may unexpectedly overwrite local function names. My tip: avoid it."
   ]
  },
  {
   "cell_type": "markdown",
   "metadata": {},
   "source": [
    "## Python basic data types"
   ]
  },
  {
   "cell_type": "code",
   "execution_count": null,
   "metadata": {
    "collapsed": false
   },
   "outputs": [],
   "source": [
    "type(2)"
   ]
  },
  {
   "cell_type": "code",
   "execution_count": null,
   "metadata": {
    "collapsed": false
   },
   "outputs": [],
   "source": [
    "type(2.0)"
   ]
  },
  {
   "cell_type": "code",
   "execution_count": null,
   "metadata": {
    "collapsed": false
   },
   "outputs": [],
   "source": [
    "type(\"2\")"
   ]
  },
  {
   "cell_type": "code",
   "execution_count": null,
   "metadata": {
    "collapsed": false
   },
   "outputs": [],
   "source": [
    "type(\"Hello\")"
   ]
  },
  {
   "cell_type": "code",
   "execution_count": null,
   "metadata": {
    "collapsed": false
   },
   "outputs": [],
   "source": [
    "\"Hello \" + \"python world\""
   ]
  },
  {
   "cell_type": "code",
   "execution_count": null,
   "metadata": {
    "collapsed": false
   },
   "outputs": [],
   "source": [
    "name = \"boy\"\n",
    "\"Hello\" + \" \" + name"
   ]
  },
  {
   "cell_type": "code",
   "execution_count": null,
   "metadata": {
    "collapsed": false
   },
   "outputs": [],
   "source": [
    "\"Hello \" + 2"
   ]
  },
  {
   "cell_type": "markdown",
   "metadata": {},
   "source": [
    "The example above gave error because.. read the error message!"
   ]
  },
  {
   "cell_type": "code",
   "execution_count": null,
   "metadata": {
    "collapsed": false,
    "scrolled": true
   },
   "outputs": [],
   "source": [
    "\"Hello \" + str(2) #type conversion"
   ]
  },
  {
   "cell_type": "markdown",
   "metadata": {},
   "source": [
    "Learn more about a string."
   ]
  },
  {
   "cell_type": "code",
   "execution_count": null,
   "metadata": {
    "collapsed": false
   },
   "outputs": [],
   "source": [
    "len(\"Hello\")"
   ]
  },
  {
   "cell_type": "code",
   "execution_count": null,
   "metadata": {
    "collapsed": false
   },
   "outputs": [],
   "source": [
    "len(str(2))"
   ]
  },
  {
   "cell_type": "code",
   "execution_count": null,
   "metadata": {
    "collapsed": false
   },
   "outputs": [],
   "source": [
    "h = \"happy \"\n",
    "b = \"birthday! \"\n",
    "(h+b)*3"
   ]
  },
  {
   "cell_type": "code",
   "execution_count": null,
   "metadata": {
    "collapsed": false
   },
   "outputs": [],
   "source": [
    "len((h+b)*3)"
   ]
  },
  {
   "cell_type": "code",
   "execution_count": null,
   "metadata": {
    "collapsed": false
   },
   "outputs": [],
   "source": [
    "word = \"Hello\"\n",
    "name = \"boy\"\n",
    "print(word + \" \" + name)"
   ]
  },
  {
   "cell_type": "markdown",
   "metadata": {},
   "source": [
    "NOTE: among all printouts above, the *only* one that does also work in not-interactive mode (e.g. not Jupyter) is of the type of the last one."
   ]
  },
  {
   "cell_type": "code",
   "execution_count": null,
   "metadata": {
    "collapsed": false
   },
   "outputs": [],
   "source": [
    "# multiple assignment\n",
    "a, b, c = 1, 2, 3\n",
    "print(a, b, c)"
   ]
  },
  {
   "cell_type": "markdown",
   "metadata": {},
   "source": [
    "## More data types: booleans, conditional, compound conditional code"
   ]
  },
  {
   "cell_type": "code",
   "execution_count": null,
   "metadata": {
    "collapsed": false
   },
   "outputs": [],
   "source": [
    "True"
   ]
  },
  {
   "cell_type": "code",
   "execution_count": null,
   "metadata": {
    "collapsed": false
   },
   "outputs": [],
   "source": [
    "type(True)"
   ]
  },
  {
   "cell_type": "code",
   "execution_count": null,
   "metadata": {
    "collapsed": false
   },
   "outputs": [],
   "source": [
    "0 == 0   #asking if 0 is the same as 0"
   ]
  },
  {
   "cell_type": "code",
   "execution_count": null,
   "metadata": {
    "collapsed": false
   },
   "outputs": [],
   "source": [
    "0 == 1"
   ]
  },
  {
   "cell_type": "code",
   "execution_count": null,
   "metadata": {
    "collapsed": false
   },
   "outputs": [],
   "source": [
    "0 != 1   #asking if 0 is not the same as 1"
   ]
  },
  {
   "cell_type": "code",
   "execution_count": null,
   "metadata": {
    "collapsed": false
   },
   "outputs": [],
   "source": [
    "\"Hello\" == \"hello\"   #applying the same to strings may show you the case-sensitiveness"
   ]
  },
  {
   "cell_type": "code",
   "execution_count": null,
   "metadata": {
    "collapsed": false
   },
   "outputs": [],
   "source": [
    "x = 4  # assigning..\n",
    "x == 4  # asking.."
   ]
  },
  {
   "cell_type": "code",
   "execution_count": null,
   "metadata": {
    "collapsed": false
   },
   "outputs": [],
   "source": [
    "x = 5  # assigning..\n",
    "x == 4  # asking.."
   ]
  },
  {
   "cell_type": "code",
   "execution_count": null,
   "metadata": {
    "collapsed": false
   },
   "outputs": [],
   "source": [
    "1 > 0"
   ]
  },
  {
   "cell_type": "code",
   "execution_count": null,
   "metadata": {
    "collapsed": false
   },
   "outputs": [],
   "source": [
    "2 >= 3"
   ]
  },
  {
   "cell_type": "code",
   "execution_count": null,
   "metadata": {
    "collapsed": false
   },
   "outputs": [],
   "source": [
    "-1 < 0"
   ]
  },
  {
   "cell_type": "code",
   "execution_count": null,
   "metadata": {
    "collapsed": false
   },
   "outputs": [],
   "source": [
    ".5 <= 1"
   ]
  },
  {
   "cell_type": "code",
   "execution_count": null,
   "metadata": {
    "collapsed": false
   },
   "outputs": [],
   "source": [
    "\"H\" in \"Hello\""
   ]
  },
  {
   "cell_type": "code",
   "execution_count": null,
   "metadata": {
    "collapsed": false
   },
   "outputs": [],
   "source": [
    "\"X\" not in \"Hello\""
   ]
  },
  {
   "cell_type": "code",
   "execution_count": null,
   "metadata": {
    "collapsed": false
   },
   "outputs": [],
   "source": [
    "if 6>5:     # remember the indentation..\n",
    "    print(\"6 is greater than 5\")"
   ]
  },
  {
   "cell_type": "code",
   "execution_count": null,
   "metadata": {
    "collapsed": true
   },
   "outputs": [],
   "source": [
    "if 0>2:\n",
    "    print(\"if you see this line printed, we have a problem.. 0 is NOT greater than 2\")\n",
    "#line above not executed at all"
   ]
  },
  {
   "cell_type": "code",
   "execution_count": null,
   "metadata": {
    "collapsed": false
   },
   "outputs": [],
   "source": [
    "if \"h\" in \"hello\":\n",
    "    print(\"letter found!\")"
   ]
  },
  {
   "cell_type": "code",
   "execution_count": null,
   "metadata": {
    "collapsed": false
   },
   "outputs": [],
   "source": [
    "a=15\n",
    "b=12\n",
    "if a>b:\n",
    "    print(\"a is greater than b\")\n",
    "else:\n",
    "    print(\"b is greater than a\")\n",
    "#mmh.. something can go fishy here.. stay tuned for more later one.."
   ]
  },
  {
   "cell_type": "code",
   "execution_count": null,
   "metadata": {
    "collapsed": false
   },
   "outputs": [],
   "source": [
    "x=1\n",
    "x>0 and x<2 and \"h\" in \"hello\""
   ]
  },
  {
   "cell_type": "code",
   "execution_count": null,
   "metadata": {
    "collapsed": false
   },
   "outputs": [],
   "source": [
    "\"H\" in \"hello\" or \"h\" in \"hello\""
   ]
  },
  {
   "cell_type": "code",
   "execution_count": null,
   "metadata": {
    "collapsed": false
   },
   "outputs": [],
   "source": [
    "2<=1 or \"x\" in \"hello\""
   ]
  },
  {
   "cell_type": "code",
   "execution_count": null,
   "metadata": {
    "collapsed": false
   },
   "outputs": [],
   "source": [
    "temperature = 20\n",
    "if temperature>10 and temperature<30:\n",
    "    print(\"Nice weather\")\n",
    "else:\n",
    "    print(\"Too cold or hot for me\")"
   ]
  },
  {
   "cell_type": "markdown",
   "metadata": {},
   "source": [
    "One example above (the one with a and b) is not rock-solid at all.. try to put a=b=15! This will fix it:"
   ]
  },
  {
   "cell_type": "code",
   "execution_count": null,
   "metadata": {
    "collapsed": false
   },
   "outputs": [],
   "source": [
    "a=15\n",
    "b=15\n",
    "if a>b:\n",
    "    print(\"a is greater than b\")\n",
    "elif a==b:\n",
    "    print(\"a and b are the same\")\n",
    "else:\n",
    "    print(\"b is greater than a\")\n",
    "#now indeed: only one of the lines above can be executed in each of the possible cases"
   ]
  },
  {
   "cell_type": "markdown",
   "metadata": {},
   "source": [
    "## Tuples"
   ]
  },
  {
   "cell_type": "markdown",
   "metadata": {},
   "source": [
    "Read-only collection of items."
   ]
  },
  {
   "cell_type": "code",
   "execution_count": null,
   "metadata": {
    "collapsed": false
   },
   "outputs": [],
   "source": [
    "tuple1 = (1, 2, 3)\n",
    "type(tuple1)"
   ]
  },
  {
   "cell_type": "code",
   "execution_count": null,
   "metadata": {
    "collapsed": false
   },
   "outputs": [],
   "source": [
    "tuple1[0]"
   ]
  },
  {
   "cell_type": "code",
   "execution_count": null,
   "metadata": {
    "collapsed": false
   },
   "outputs": [],
   "source": [
    "tuple1[0] = 4   # error!"
   ]
  },
  {
   "cell_type": "code",
   "execution_count": null,
   "metadata": {
    "collapsed": false
   },
   "outputs": [],
   "source": [
    "tuple1.append(4)  # error!"
   ]
  },
  {
   "cell_type": "code",
   "execution_count": null,
   "metadata": {
    "collapsed": false,
    "scrolled": true
   },
   "outputs": [],
   "source": [
    "tuple1.   # explore.. not so many functions!"
   ]
  },
  {
   "cell_type": "code",
   "execution_count": null,
   "metadata": {
    "collapsed": false,
    "scrolled": true
   },
   "outputs": [],
   "source": [
    "tuple1 = (1, 2, 3)\n",
    "print(tuple1)"
   ]
  },
  {
   "cell_type": "code",
   "execution_count": null,
   "metadata": {
    "collapsed": false
   },
   "outputs": [],
   "source": [
    "tuple2 = (\"a\", \"b\")\n",
    "print(tuple2)"
   ]
  },
  {
   "cell_type": "markdown",
   "metadata": {},
   "source": [
    "Why tuples? Not used for items to manage/change/add, but used for immutable items, e.g. dimension of a nD array. More on this in the Numpy 101 crash course later."
   ]
  },
  {
   "cell_type": "markdown",
   "metadata": {},
   "source": [
    "## Lists"
   ]
  },
  {
   "cell_type": "markdown",
   "metadata": {},
   "source": [
    "Lists allows you to manipulate them plenty more.."
   ]
  },
  {
   "cell_type": "code",
   "execution_count": null,
   "metadata": {
    "collapsed": false
   },
   "outputs": [],
   "source": [
    "my_list = [\"a\", \"b\", \"c\"]\n",
    "type(my_list)"
   ]
  },
  {
   "cell_type": "code",
   "execution_count": null,
   "metadata": {
    "collapsed": false
   },
   "outputs": [],
   "source": [
    "len(my_list)   # CAREFUL! this tells you _how many_ elements you have in the list, _not_ their lenght!"
   ]
  },
  {
   "cell_type": "code",
   "execution_count": null,
   "metadata": {
    "collapsed": false
   },
   "outputs": [],
   "source": [
    "\"a\" in my_list"
   ]
  },
  {
   "cell_type": "code",
   "execution_count": null,
   "metadata": {
    "collapsed": false
   },
   "outputs": [],
   "source": [
    "my_list[0]"
   ]
  },
  {
   "cell_type": "code",
   "execution_count": null,
   "metadata": {
    "collapsed": false
   },
   "outputs": [],
   "source": [
    "my_list[3]"
   ]
  },
  {
   "cell_type": "code",
   "execution_count": null,
   "metadata": {
    "collapsed": false
   },
   "outputs": [],
   "source": [
    "my_list[1:]"
   ]
  },
  {
   "cell_type": "code",
   "execution_count": null,
   "metadata": {
    "collapsed": false
   },
   "outputs": [],
   "source": [
    "my_list.append(\"d\")\n",
    "my_list"
   ]
  },
  {
   "cell_type": "code",
   "execution_count": null,
   "metadata": {
    "collapsed": false
   },
   "outputs": [],
   "source": [
    "len(my_list)"
   ]
  },
  {
   "cell_type": "code",
   "execution_count": null,
   "metadata": {
    "collapsed": false
   },
   "outputs": [],
   "source": [
    "my_list[3]"
   ]
  },
  {
   "cell_type": "code",
   "execution_count": null,
   "metadata": {
    "collapsed": false
   },
   "outputs": [],
   "source": [
    "#create an empty list\n",
    "another_list = []\n",
    "len(another_list)"
   ]
  },
  {
   "cell_type": "code",
   "execution_count": null,
   "metadata": {
    "collapsed": false
   },
   "outputs": [],
   "source": [
    "names = [\"Adam\", \"Bruno\", \"Carl\", \"David\"]\n",
    "names[3] = \"Daniel\"\n",
    "names"
   ]
  },
  {
   "cell_type": "code",
   "execution_count": null,
   "metadata": {
    "collapsed": false
   },
   "outputs": [],
   "source": [
    "names.append(\"Elen\")\n",
    "names"
   ]
  },
  {
   "cell_type": "code",
   "execution_count": null,
   "metadata": {
    "collapsed": false
   },
   "outputs": [],
   "source": [
    "len(names)"
   ]
  },
  {
   "cell_type": "code",
   "execution_count": null,
   "metadata": {
    "collapsed": false
   },
   "outputs": [],
   "source": [
    "print(\"position 0 = \" + names[0])\n",
    "print(\"position 1 = \" + names[1])\n",
    "print(\"position 2 = \" + names[2])\n",
    "print(\"position 3 = \" + names[3])\n",
    "print(\"position 4 = \" + names[4])"
   ]
  },
  {
   "cell_type": "markdown",
   "metadata": {},
   "source": [
    "You do not need to know the absolute position: the relative position might be just fine - e.g. you might need the \"last\" or \"last but one\" element in a list."
   ]
  },
  {
   "cell_type": "code",
   "execution_count": null,
   "metadata": {
    "collapsed": false,
    "scrolled": true
   },
   "outputs": [],
   "source": [
    "#pull out the last name in the list. Remember: from 0 to n-1 and you count from the left\n",
    "names[len(names)-1]"
   ]
  },
  {
   "cell_type": "code",
   "execution_count": null,
   "metadata": {
    "collapsed": false
   },
   "outputs": [],
   "source": [
    "# interesting (and sometimes useful) that you can count from 1 to 5 in the opposite order if you wish..\n",
    "# .. you need a minus in front, and you count from the end of the list towards its beginning..\n",
    "print(\"position -1 = \" + names[-1])\n",
    "print(\"position -2 = \" + names[-2])\n",
    "print(\"position -3 = \" + names[-3])\n",
    "print(\"position -4 = \" + names[-4])\n",
    "print(\"position -5 = \" + names[-5])"
   ]
  },
  {
   "cell_type": "code",
   "execution_count": null,
   "metadata": {
    "collapsed": false,
    "scrolled": true
   },
   "outputs": [],
   "source": [
    "# a trivial example\n",
    "my_name = \"Daniele\"\n",
    "my_name[-1]   #if I would want the last letter of a string (this might be more useful than you might think!)"
   ]
  },
  {
   "cell_type": "markdown",
   "metadata": {},
   "source": [
    "Plenty of more manipulations.. but this is a 101 course, so let's move one. Just one last bit."
   ]
  },
  {
   "cell_type": "code",
   "execution_count": null,
   "metadata": {
    "collapsed": false
   },
   "outputs": [],
   "source": [
    "names = [\"Adam\", \"Bruno\", \"Carl\", \"David\"]\n",
    "lowercasestring = names[0].lower()\n",
    "lowercasestring"
   ]
  },
  {
   "cell_type": "markdown",
   "metadata": {},
   "source": [
    "## Before going on"
   ]
  },
  {
   "cell_type": "markdown",
   "metadata": {},
   "source": [
    "You might have noticed that we used various functions in the modules we imported. But you needed to know WHICH functions exist before selecting one! How do you know which functions exist in a given python module? \n",
    "\n",
    "E.g. back to the \"math\" module we used before. \n",
    "\n",
    "Suppose you want to use that library, see which methods exists, and get information on one of them of your interest (e.g. \"tan\"): this is a frequent and useful workflow. You can e.g. execute it as follows (NOTE: there are other ways! choose your favourite..)"
   ]
  },
  {
   "cell_type": "code",
   "execution_count": null,
   "metadata": {
    "collapsed": false
   },
   "outputs": [],
   "source": [
    "import math"
   ]
  },
  {
   "cell_type": "code",
   "execution_count": null,
   "metadata": {
    "collapsed": false
   },
   "outputs": [],
   "source": [
    "dir(math)"
   ]
  },
  {
   "cell_type": "markdown",
   "metadata": {},
   "source": [
    "A quick and nicely useful solution is also\n",
    "\n",
    "    math.<tab>\n",
    "    \n",
    "Try it out in the next cell.."
   ]
  },
  {
   "cell_type": "code",
   "execution_count": null,
   "metadata": {
    "collapsed": false
   },
   "outputs": [],
   "source": [
    "math. #position the cursor after the \".\" and hit <TAB>. Do not run the cell, it will give error, of course."
   ]
  },
  {
   "cell_type": "markdown",
   "metadata": {
    "collapsed": true
   },
   "source": [
    "Once you see them all, you can ask for on \"help\" on the one you might like, e.g.:"
   ]
  },
  {
   "cell_type": "code",
   "execution_count": null,
   "metadata": {
    "collapsed": false
   },
   "outputs": [],
   "source": [
    "help(math.tan)"
   ]
  },
  {
   "cell_type": "markdown",
   "metadata": {
    "collapsed": true
   },
   "source": [
    "Great. If that was what you needed, you can now use it."
   ]
  },
  {
   "cell_type": "markdown",
   "metadata": {},
   "source": [
    "## 'for' loop"
   ]
  },
  {
   "cell_type": "markdown",
   "metadata": {},
   "source": [
    "\"For\" and \"while\" loops exist - as in all other languages. \"For\" is more compact, and usually preferrable, w.r.t to a while loop. "
   ]
  },
  {
   "cell_type": "code",
   "execution_count": null,
   "metadata": {
    "collapsed": false
   },
   "outputs": [],
   "source": [
    "for i in range(5):\n",
    "    print(i)"
   ]
  },
  {
   "cell_type": "markdown",
   "metadata": {},
   "source": [
    "Take this example with while, and the same with for, and compare them. More on \"while\" in a section later on."
   ]
  },
  {
   "cell_type": "code",
   "execution_count": null,
   "metadata": {
    "collapsed": false
   },
   "outputs": [],
   "source": [
    "my_list = ['one', 'two', 'three']\n",
    "my_len = len(my_list)\n",
    "i = 0\n",
    "while i < my_len:\n",
    "    print(my_list[i])\n",
    "    i += 1"
   ]
  },
  {
   "cell_type": "code",
   "execution_count": null,
   "metadata": {
    "collapsed": false
   },
   "outputs": [],
   "source": [
    "my_list = ['one', 'two', 'three']\n",
    "for item in my_list:\n",
    "    print item"
   ]
  },
  {
   "cell_type": "markdown",
   "metadata": {
    "collapsed": true
   },
   "source": [
    "Use _zip_ for a double \"for\" on two lists at the same time in the same loop (it stops once one of the two loops cannot go beyond..)."
   ]
  },
  {
   "cell_type": "code",
   "execution_count": null,
   "metadata": {
    "collapsed": false
   },
   "outputs": [],
   "source": [
    "my_list = ['one', 'two', 'three', 'four', 'five']\n",
    "for item_1, item_2 in zip(my_list, my_list[1:]):\n",
    "    print(item_1, item_2)"
   ]
  },
  {
   "cell_type": "markdown",
   "metadata": {},
   "source": [
    "_NOTE: in the following cells, the \"names\" list is unnecessarily declared in all cells, only for readability not for need._"
   ]
  },
  {
   "cell_type": "code",
   "execution_count": null,
   "metadata": {
    "collapsed": false
   },
   "outputs": [],
   "source": [
    "names = [\"Adam\", \"Bruno\", \"Carl\", \"David\", \"Elen\"]\n",
    "for name in names:\n",
    "    print(name)"
   ]
  },
  {
   "cell_type": "markdown",
   "metadata": {},
   "source": [
    "A better ways to make writeouts similar to what done earlier (and scales to plenty more outputs..) is of course to use a for loop:"
   ]
  },
  {
   "cell_type": "code",
   "execution_count": null,
   "metadata": {
    "collapsed": false
   },
   "outputs": [],
   "source": [
    "i_counter=0\n",
    "for name in names:\n",
    "    print(\"Position \" + str(i_counter) + \" : \" + name)\n",
    "    i_counter=i_counter+1"
   ]
  },
  {
   "cell_type": "markdown",
   "metadata": {},
   "source": [
    "Easy to restrict only to some elements of the list that match a given criterion: just apply the criterion in the for loop. E.g. print only names that start with a vowel."
   ]
  },
  {
   "cell_type": "code",
   "execution_count": null,
   "metadata": {
    "collapsed": false
   },
   "outputs": [],
   "source": [
    "names = [\"Adam\", \"Bruno\", \"Carl\", \"David\", \"Elen\"]\n",
    "for name in names:\n",
    "#   if name[0] in [\"A\", \"E\", \"I\", \"O\", \"U\"]:    #check with a list of the 5 vowels\n",
    "    if name[0] in \"AEIOU\":   #check with a string that contains the 5 vowels\n",
    "        print(\"'\" + name + \"'\" + \" starts with a vowel.\")"
   ]
  },
  {
   "cell_type": "markdown",
   "metadata": {},
   "source": [
    "Building up a list: do not print out but fill a new list with names starting with a vowel."
   ]
  },
  {
   "cell_type": "code",
   "execution_count": null,
   "metadata": {
    "collapsed": false
   },
   "outputs": [],
   "source": [
    "names = [\"Adam\", \"Bruno\", \"Carl\", \"David\", \"Elen\"]\n",
    "vowel_names = []\n",
    "for name in names:\n",
    "    if name[0] in \"AEIOU\":\n",
    "        vowel_names.append(name)\n",
    "vowel_names"
   ]
  },
  {
   "cell_type": "code",
   "execution_count": null,
   "metadata": {
    "collapsed": false
   },
   "outputs": [],
   "source": [
    "type(vowel_names)"
   ]
  },
  {
   "cell_type": "markdown",
   "metadata": {},
   "source": [
    "Let's fill a list with numbers now. Sum up values in a list."
   ]
  },
  {
   "cell_type": "code",
   "execution_count": null,
   "metadata": {
    "collapsed": false
   },
   "outputs": [],
   "source": [
    "prices = [1.5, 2.35, 5.99, 16.49]\n",
    "total = 0.0\n",
    "for price in prices:\n",
    "    total = total + price\n",
    "total"
   ]
  },
  {
   "cell_type": "markdown",
   "metadata": {},
   "source": [
    "Key point in python (and not only): if somebody coded a function for you in the past, just use it!"
   ]
  },
  {
   "cell_type": "code",
   "execution_count": null,
   "metadata": {
    "collapsed": false
   },
   "outputs": [],
   "source": [
    "sum(prices)"
   ]
  },
  {
   "cell_type": "markdown",
   "metadata": {},
   "source": [
    "## Dictionaries"
   ]
  },
  {
   "cell_type": "markdown",
   "metadata": {},
   "source": [
    "Another container data type, and a different philosophy w.r.t lists: it is concerned about key-value relationships."
   ]
  },
  {
   "cell_type": "code",
   "execution_count": null,
   "metadata": {
    "collapsed": false
   },
   "outputs": [],
   "source": [
    "ice_cream = {\"Amanda\":\"strawberry\", \"Bice\":\"lemon\", \"Daniele\":\"chocolate\"}\n",
    "type(ice_cream)"
   ]
  },
  {
   "cell_type": "code",
   "execution_count": null,
   "metadata": {
    "collapsed": false
   },
   "outputs": [],
   "source": [
    "ice_cream[\"Amanda\"]"
   ]
  },
  {
   "cell_type": "code",
   "execution_count": null,
   "metadata": {
    "collapsed": false,
    "scrolled": true
   },
   "outputs": [],
   "source": [
    "ice_cream[\"Licia\"] # this prompts an error.."
   ]
  },
  {
   "cell_type": "code",
   "execution_count": null,
   "metadata": {
    "collapsed": false
   },
   "outputs": [],
   "source": [
    "\"Licia\" in ice_cream"
   ]
  },
  {
   "cell_type": "code",
   "execution_count": null,
   "metadata": {
    "collapsed": true
   },
   "outputs": [],
   "source": [
    "ice_cream[\"Licia\"] = \"yogurt\""
   ]
  },
  {
   "cell_type": "code",
   "execution_count": null,
   "metadata": {
    "collapsed": false
   },
   "outputs": [],
   "source": [
    "\"Licia\" in ice_cream"
   ]
  },
  {
   "cell_type": "code",
   "execution_count": null,
   "metadata": {
    "collapsed": false
   },
   "outputs": [],
   "source": [
    "ice_cream[\"Licia\"]"
   ]
  },
  {
   "cell_type": "code",
   "execution_count": null,
   "metadata": {
    "collapsed": false
   },
   "outputs": [],
   "source": [
    "ice_cream # remember this is a dict"
   ]
  },
  {
   "cell_type": "markdown",
   "metadata": {
    "collapsed": true
   },
   "source": [
    "NOTE: keys need to be unique, values don't."
   ]
  },
  {
   "cell_type": "code",
   "execution_count": null,
   "metadata": {
    "collapsed": true
   },
   "outputs": [],
   "source": [
    "ice_cream[\"Daniele\"] = \"yogurt\""
   ]
  },
  {
   "cell_type": "code",
   "execution_count": null,
   "metadata": {
    "collapsed": false
   },
   "outputs": [],
   "source": [
    "ice_cream"
   ]
  },
  {
   "cell_type": "markdown",
   "metadata": {},
   "source": [
    "Initialize a new dictionary."
   ]
  },
  {
   "cell_type": "code",
   "execution_count": null,
   "metadata": {
    "collapsed": true
   },
   "outputs": [],
   "source": [
    "#empty dict\n",
    "a_new_dict = {}"
   ]
  },
  {
   "cell_type": "markdown",
   "metadata": {},
   "source": [
    "Alternatively, create a dict like this:"
   ]
  },
  {
   "cell_type": "code",
   "execution_count": null,
   "metadata": {
    "collapsed": false,
    "scrolled": true
   },
   "outputs": [],
   "source": [
    "phonebook= dict()\n",
    "phonebook['Daniele'] = ('051-1111111', 'Via Dromedario 1, Bologna')\n",
    "phonebook['Licia'] = ('051-2222222', 'Via Dromedario 2, Bologna')\n",
    "phonebook['Amanda'] = ('051-3333333', 'Via Dromedario 3, Bologna')"
   ]
  },
  {
   "cell_type": "code",
   "execution_count": null,
   "metadata": {
    "collapsed": false
   },
   "outputs": [],
   "source": [
    "print(phonebook['Licia'])\n",
    "#print(phonebook['Bice']) # this would prompt an error as it is NOT in the dict"
   ]
  },
  {
   "cell_type": "code",
   "execution_count": null,
   "metadata": {
    "collapsed": false
   },
   "outputs": [],
   "source": [
    "print(phonebook['Bice']) # this prompts an error as it is NOT in the dict"
   ]
  },
  {
   "cell_type": "markdown",
   "metadata": {},
   "source": [
    "Note: you got a \"KeyError\". Is it frequent, perhaps? If so, attack it! A clever way is to do the same as above, but adding some protection just against a KeyError specifically:"
   ]
  },
  {
   "cell_type": "code",
   "execution_count": null,
   "metadata": {
    "collapsed": false
   },
   "outputs": [],
   "source": [
    "try:\n",
    "    print(\"Licia\", phonebook['Licia'])\n",
    "    print(\"Bice\", phonebook['Bice'])\n",
    "except KeyError:\n",
    "    print(\"One requested contact was not found in the phonebook.\")"
   ]
  },
  {
   "cell_type": "markdown",
   "metadata": {},
   "source": [
    "## Some other useful modules"
   ]
  },
  {
   "cell_type": "markdown",
   "metadata": {},
   "source": [
    "Just a glimpe to the existence of some, with a couple of examples on their specific usage (remember, this is NOT a python course, do not expect full coverage..)."
   ]
  },
  {
   "cell_type": "code",
   "execution_count": null,
   "metadata": {
    "collapsed": true
   },
   "outputs": [],
   "source": [
    "import random"
   ]
  },
  {
   "cell_type": "code",
   "execution_count": null,
   "metadata": {
    "collapsed": false,
    "scrolled": true
   },
   "outputs": [],
   "source": [
    "#get a random integer within a range\n",
    "random.randint(1, 10)\n",
    "#try to run this cell several times.."
   ]
  },
  {
   "cell_type": "code",
   "execution_count": null,
   "metadata": {
    "collapsed": false
   },
   "outputs": [],
   "source": [
    "random.<tab> # see how many options you can choose from.. explore each with help if you need some.."
   ]
  },
  {
   "cell_type": "code",
   "execution_count": null,
   "metadata": {
    "collapsed": false
   },
   "outputs": [],
   "source": [
    "#pick a random item in a list\n",
    "cards = [\"jack\", \"queen\", \"king\", \"ace\"]\n",
    "random.choice(cards)\n",
    "#try to run this cell several times.."
   ]
  },
  {
   "cell_type": "markdown",
   "metadata": {},
   "source": [
    "At this point, if you are not familiar with this ye, it would be useful to go to a terminal - on a resource where you have installed python beforehand - and practice in making some small examples above into python scripts, and run them. \n",
    "\n",
    "E.g. minimal: a script to simulate a die roll (cut & paste it into a script and run it)"
   ]
  },
  {
   "cell_type": "code",
   "execution_count": null,
   "metadata": {
    "collapsed": false
   },
   "outputs": [],
   "source": [
    "import random\n",
    "roll = random.randint(1, 6)\n",
    "print(\"Your die roll is: \" + str(roll))\n",
    "#try to run this cell several times.."
   ]
  },
  {
   "cell_type": "markdown",
   "metadata": {},
   "source": [
    "Check out a good python course at this stage, and..."
   ]
  },
  {
   "cell_type": "code",
   "execution_count": null,
   "metadata": {
    "collapsed": false
   },
   "outputs": [],
   "source": [
    "do_it = \"practice! \"\n",
    "(do_it)*50"
   ]
  },
  {
   "cell_type": "markdown",
   "metadata": {},
   "source": [
    "## Make a choice on a list of dict keys and extract the corresponding value"
   ]
  },
  {
   "cell_type": "markdown",
   "metadata": {},
   "source": [
    "Let's take few things above and play them together."
   ]
  },
  {
   "cell_type": "code",
   "execution_count": null,
   "metadata": {
    "collapsed": false
   },
   "outputs": [],
   "source": [
    "my_dict = {\"One\":\"1\", \"Two\":\"2\", \"Three\":\"3\"}\n",
    "chiavi = list(my_dict.keys())    # dict -> list of all keys \n",
    "for i in range(10):    # NOTE: i not used, just a way to repeat ops, before we introduce 'while' loops.\n",
    "#for i in [1,2,3,4,5,6,7,8,9,10]:    # another explicit, but ugly, way to do the same\n",
    "    chiave = random.choice(chiavi)  # take a random key among all the keys in the list\n",
    "    valore = my_dict[chiave]        # extract the value for that random key\n",
    "    print(\"This key was selected: \" + chiave + \". And this is the corresponding value: \" + valore)"
   ]
  },
  {
   "cell_type": "markdown",
   "metadata": {},
   "source": [
    "## Interacting with user input from the c.l."
   ]
  },
  {
   "cell_type": "markdown",
   "metadata": {},
   "source": [
    "Two seconds on refresh ourselves with something completely different!\n",
    "\n",
    "This is hardly needed while scripting, but might be instructive to know anyway how to."
   ]
  },
  {
   "cell_type": "code",
   "execution_count": null,
   "metadata": {
    "collapsed": false,
    "scrolled": true
   },
   "outputs": [],
   "source": [
    "user_input = raw_input(\"Answer this question with a random string.. \")\n",
    "#user_input\n",
    "print(\"You typed: \" + user_input)"
   ]
  },
  {
   "cell_type": "markdown",
   "metadata": {},
   "source": [
    "Back on the main stream.."
   ]
  },
  {
   "cell_type": "markdown",
   "metadata": {},
   "source": [
    "## 'While' loop"
   ]
  },
  {
   "cell_type": "markdown",
   "metadata": {},
   "source": [
    "**QUIZ**: will this give an error? "
   ]
  },
  {
   "cell_type": "code",
   "execution_count": null,
   "metadata": {
    "collapsed": false,
    "scrolled": true
   },
   "outputs": [],
   "source": [
    "#first way\n",
    "counter = 0\n",
    "while counter < 5:\n",
    "    print(\"Counter is: \" + counter)   \n",
    "    counter += 1                           # same as \"counter = counter + 1\"\n",
    "    \n",
    "print(\"Done.\")"
   ]
  },
  {
   "cell_type": "markdown",
   "metadata": {},
   "source": [
    "Fix it as follows."
   ]
  },
  {
   "cell_type": "code",
   "execution_count": null,
   "metadata": {
    "collapsed": false,
    "scrolled": true
   },
   "outputs": [],
   "source": [
    "#first way\n",
    "counter = 0\n",
    "while counter < 5:\n",
    "    print(\"Counter is: \" + str(counter))   # NOTE: str(counter), not counter..\n",
    "    counter += 1                           # same as \"counter = counter + 1\"\n",
    "    \n",
    "print(\"Done.\")"
   ]
  },
  {
   "cell_type": "markdown",
   "metadata": {},
   "source": [
    "Note that above you used \"counter\" as an integer in the increment, but casted it onto a string for concatenation and printout."
   ]
  },
  {
   "cell_type": "markdown",
   "metadata": {},
   "source": [
    "Let's explore a second way."
   ]
  },
  {
   "cell_type": "code",
   "execution_count": null,
   "metadata": {
    "collapsed": false,
    "scrolled": true
   },
   "outputs": [],
   "source": [
    "#second way\n",
    "counter = 0\n",
    "while True:\n",
    "    print(\"Counter is: \" + str(counter))\n",
    "    counter = counter + 1\n",
    "    if counter >= 5:\n",
    "        break\n",
    "print(\"Done.\")"
   ]
  },
  {
   "cell_type": "markdown",
   "metadata": {},
   "source": [
    "My taste: go for \"for\" instead, every time you can!"
   ]
  },
  {
   "cell_type": "markdown",
   "metadata": {},
   "source": [
    "## Functions"
   ]
  },
  {
   "cell_type": "markdown",
   "metadata": {},
   "source": [
    "Suppose you want to sum. \n",
    "\n",
    "Of course there is a \"sum\" function - we also used it above, remember?\n",
    "\n",
    "Anyway, let's assume for a moment it did not exist. Do we really want to implement sum of values in e.g. a list everytime we need it? Isn't it better to build a function that does this task for us, and call it whenever we need it?"
   ]
  },
  {
   "cell_type": "code",
   "execution_count": null,
   "metadata": {
    "collapsed": false,
    "scrolled": true
   },
   "outputs": [],
   "source": [
    "def my_sum_function( a, b ):\n",
    "    return a+b\n",
    "\n",
    "print(my_sum_function(1,2))"
   ]
  },
  {
   "cell_type": "markdown",
   "metadata": {},
   "source": [
    "Of course, you can also e.g.:"
   ]
  },
  {
   "cell_type": "code",
   "execution_count": null,
   "metadata": {
    "collapsed": false
   },
   "outputs": [],
   "source": [
    "a=1\n",
    "b=2\n",
    "numbers_to_sum = [a,b]\n",
    "sum(numbers_to_sum)"
   ]
  },
  {
   "cell_type": "markdown",
   "metadata": {},
   "source": [
    "_Note: Python does not care what you are summing up (e.g. data types), as long as a a sum is defined for that data type._"
   ]
  },
  {
   "cell_type": "code",
   "execution_count": null,
   "metadata": {
    "collapsed": false
   },
   "outputs": [],
   "source": [
    "def my_sum_function( a, b ):\n",
    "    return a+b\n",
    "\n",
    "print(my_sum_function(\"Hello \",\"world\"))   # sum of strings\n",
    "\n",
    "print(my_sum_function([1,2],[3,4,5,6,7]))  # sum of lists\n",
    "\n",
    "print(my_sum_function([\"hello \", \"world \", \"of numbers:\"],[1,2,3]))  # sum of lists of different data types\n",
    "\n"
   ]
  },
  {
   "cell_type": "markdown",
   "metadata": {},
   "source": [
    "More playing with functions."
   ]
  },
  {
   "cell_type": "code",
   "execution_count": null,
   "metadata": {
    "collapsed": false
   },
   "outputs": [],
   "source": [
    "def saluto():\n",
    "    print(\"Hello\")\n",
    "    \n",
    "saluto()"
   ]
  },
  {
   "cell_type": "code",
   "execution_count": null,
   "metadata": {
    "collapsed": false
   },
   "outputs": [],
   "source": [
    "def autosaluto(person_name):\n",
    "    print(\"Hello \" + person_name)\n",
    "    \n",
    "myname = \"Daniele\"\n",
    "autosaluto(myname)"
   ]
  },
  {
   "cell_type": "code",
   "execution_count": null,
   "metadata": {
    "collapsed": false
   },
   "outputs": [],
   "source": [
    "def make_the_sum(list_of_numbers):\n",
    "    total = 0\n",
    "    for number in list_of_numbers:\n",
    "        total = total + number\n",
    "    return total\n",
    "\n",
    "prices = [1.5, 3.7, 2.4]\n",
    "make_the_sum(prices)"
   ]
  },
  {
   "cell_type": "markdown",
   "metadata": {},
   "source": [
    "Again on strings, a function that finds words that start with a vowel (now also case-insensitive)."
   ]
  },
  {
   "cell_type": "code",
   "execution_count": null,
   "metadata": {
    "collapsed": false
   },
   "outputs": [],
   "source": [
    "def starts_with_a_vowel(word):\n",
    "    return word[0] in 'AEIOU' or word[0] in 'aeiou'\n",
    "\n",
    "parole = [\"cane\", \"albatros\", \"gatto\"]\n",
    "\n",
    "for parola in parole:\n",
    "    print(parola + \" starts with a vowel? \" + str(starts_with_a_vowel(parola)))   # NOTE: need a str()\n"
   ]
  },
  {
   "cell_type": "markdown",
   "metadata": {},
   "source": [
    "Now with 2 functions, one as above and another one that uses the first and filters a list of words and creates a new list thos that start with a vowel (case-insensitive)."
   ]
  },
  {
   "cell_type": "code",
   "execution_count": null,
   "metadata": {
    "collapsed": false,
    "scrolled": true
   },
   "outputs": [],
   "source": [
    "def starts_with_a_vowel(word):\n",
    "    return word[0] in 'AEIOU' or word[0] in 'aeiou'\n",
    "\n",
    "def filter_to_vowel_words(list_of_words):\n",
    "    list_of_vowel_words = []\n",
    "    for word in list_of_words:\n",
    "        if starts_with_a_vowel(word):\n",
    "            list_of_vowel_words.append(word)\n",
    "    return list_of_vowel_words\n",
    "\n",
    "parole = [\"cane\", \"albatros\", \"gatto\"]\n",
    "\n",
    "filter_to_vowel_words(parole)\n"
   ]
  },
  {
   "cell_type": "markdown",
   "metadata": {},
   "source": [
    "## (not mandatory) Play with a longer script"
   ]
  },
  {
   "cell_type": "markdown",
   "metadata": {},
   "source": [
    "Definitely not mandatory - skip it if you do not have time now. Keep it here and check if you are curious.\n",
    "\n",
    "_(NOTE: not a rock-solid script at all, focus is on do this with EASY syntax discussed so far, not on making it stable and performant, at all!)_"
   ]
  },
  {
   "cell_type": "code",
   "execution_count": null,
   "metadata": {
    "collapsed": false
   },
   "outputs": [],
   "source": [
    "import random\n",
    "def main():\n",
    "    state_capitals={\"Washington\":\"Olympia\",\"Oregon\":\"Salem\",\\\n",
    "                    \"California\":\"Sacramento\",\"Ohio\":\"Columbus\",\\\n",
    "                    \"Nebraska\":\"Lincoln\",\"Colorado\":\"Denver\",\\\n",
    "                    \"Michigan\":\"Lansing\",\"Massachusetts\":\"Boston\",\\\n",
    "                    \"Florida\":\"Tallahassee\",\"Texas\":\"Austin\",\\\n",
    "                    \"Oklahoma\":\"Oklahoma City\",\"Hawaii\":\"Honolulu\",\\\n",
    "                    \"Alaska\":\"Juneau\",\"Utah\":\"Salt Lake City\",\\\n",
    "                    \"New Mexico\":\"Santa Fe\",\"North Dakota\":\"Bismarck\",\\\n",
    "                    \"South Dakota\":\"Pierre\",\"West Virginia\":\"Charleston\",\\\n",
    "                    \"Virginia\":\"Richmond\",\"New Jersey\":\"Trenton\",\\\n",
    "                    \"Minnesota\":\"Saint Paul\",\"Illinois\":\"Springfield\",\\\n",
    "                    \"Indiana\":\"Indianapolis\",\"Kentucky\":\"Frankfort\",\\\n",
    "                    \"Tennessee\":\"Nashville\",\"Georgia\":\"Atlanta\",\\\n",
    "                    \"Alabama\":\"Montgomery\",\"Mississippi\":\"Jackson\",\\\n",
    "                    \"North Carolina\":\"Raleigh\",\"South Carolina\":\"Columbia\",\\\n",
    "                    \"Maine\":\"Augusta\",\"Vermont\":\"Montpelier\",\\\n",
    "                    \"New Hampshire\":\"Concord\",\"Connecticut\":\"Hartford\",\\\n",
    "                    \"Rhode Island\":\"Providence\",\"Wyoming\":\"Cheyenne\",\\\n",
    "                    \"Montana\":\"Helena\",\"Kansas\":\"Topeka\",\\\n",
    "                    \"Iowa\":\"Des Moines\",\"Pennsylvania\":\"Harrisburg\",\\\n",
    "                    \"Maryland\":\"Annapolis\",\"Missouri\":\"Jefferson City\",\\\n",
    "                    \"Arizona\":\"Phoenix\",\"Nevada\":\"Carson City\",\\\n",
    "                    \"New York\":\"Albany\",\"Wisconsin\":\"Madison\",\\\n",
    "                    \"Delaware\":\"Dover\",\"Idaho\":\"Boise\",\\\n",
    "                    \"Arkansas\":\"Little Rock\",\"Louisiana\":\"Baton Rouge\"}\n",
    "\n",
    "    incorrect_answers=[]\n",
    "\n",
    "    print \"Learn your state capitals!\\n\\n\"\n",
    "  \n",
    "\n",
    "    while len(state_capitals)>0:\n",
    "        choice=random.choice(state_capitals.keys())\n",
    "        correct_answer=state_capitals.get(choice)\n",
    "        \n",
    "        print \"What is the capital city of\",choice,\"?\"\n",
    "        answer=raw_input(\"# \")\n",
    "        if answer.lower()==correct_answer.lower():\n",
    "            print \"That's Correct!\\n\"\n",
    "            del state_capitals[choice]\n",
    "        else:\n",
    "            print \"That's Incorrect.\"\n",
    "            print \"The correct answer is\",correct_answer\n",
    "            incorrect_answers.append(choice)\n",
    "\n",
    "    print \"You missed\",len(incorrect_answers),\"states.\\n\"\n",
    "    \n",
    "\n",
    "    if incorrect_answers:\n",
    "        print \"here's the ones that you may want to brush up on:\\n\"\n",
    "        for each in incorrect_answers:\n",
    "            print each\n",
    "    else:\n",
    "        print \"Perfect!\"\n",
    "\n",
    "        \n",
    "response=\"\"\n",
    "while response<>\"quit\":\n",
    "    main()\n",
    "    response=raw_input(\"\\n\\nPlay again?(y/n)\\n# \")"
   ]
  },
  {
   "cell_type": "markdown",
   "metadata": {},
   "source": [
    "## Read from and write to a file"
   ]
  },
  {
   "cell_type": "markdown",
   "metadata": {},
   "source": [
    "Create locally a file with the content below, if you want to run next cells and get the same results. Be careful that here you will **write** to the local area where you launched Jupyter notebook from."
   ]
  },
  {
   "cell_type": "code",
   "execution_count": null,
   "metadata": {
    "collapsed": false
   },
   "outputs": [],
   "source": [
    "%%file input_test_file.txt\n",
    "cane\n",
    "gatto\n",
    "lupo\n",
    "orso\n",
    "volpe\n",
    "leone"
   ]
  },
  {
   "cell_type": "code",
   "execution_count": null,
   "metadata": {
    "collapsed": false
   },
   "outputs": [],
   "source": [
    "!cat input_test_file.txt"
   ]
  },
  {
   "cell_type": "code",
   "execution_count": null,
   "metadata": {
    "collapsed": false,
    "scrolled": true
   },
   "outputs": [],
   "source": [
    "# read a file and print it out again\n",
    "\n",
    "f = open(\"input_test_file.txt\", \"r\")\n",
    "for line in f:\n",
    "    print(line)            # NOTE: what you see below is NOT the outcome of a 'cat', but of a series of 'print'\n",
    "    \n",
    "f.close()"
   ]
  },
  {
   "cell_type": "markdown",
   "metadata": {},
   "source": [
    "Not nice to keep the carriage returns.. let's kill them."
   ]
  },
  {
   "cell_type": "code",
   "execution_count": null,
   "metadata": {
    "collapsed": false
   },
   "outputs": [],
   "source": [
    "# read a file and print it out again\n",
    "\n",
    "f = open(\"input_test_file.txt\", \"r\")\n",
    "for line in f:\n",
    "    line = line.strip()    # remove the carriage return at the end of each line\n",
    "    print(line)            # NOTE: what you see below is NOT the outcome of a 'cat', but of a series of 'print'\n",
    "    \n",
    "f.close()"
   ]
  },
  {
   "cell_type": "markdown",
   "metadata": {},
   "source": [
    "Alternatively:"
   ]
  },
  {
   "cell_type": "code",
   "execution_count": null,
   "metadata": {
    "collapsed": false
   },
   "outputs": [],
   "source": [
    "with open(\"input_test_file.txt\", \"r\") as f:\n",
    "    for line in f:\n",
    "        line = line.strip()    # remove the carriage return at the end of each line\n",
    "        print(line)            # NOTE: what you see below is NOT the outcome of a 'cat', but of a series of 'print'\n",
    "    \n",
    "f.close()"
   ]
  },
  {
   "cell_type": "markdown",
   "metadata": {},
   "source": [
    "A slightly more elaborated (but still simple) example of a file ***read***. This examples takes several of the things we discussed earlier and put them together in one single example.\n",
    "\n",
    "**QUIZ**: do you understand what each line does, before running the cell?"
   ]
  },
  {
   "cell_type": "code",
   "execution_count": null,
   "metadata": {
    "collapsed": false,
    "scrolled": true
   },
   "outputs": [],
   "source": [
    "f = open(\"input_test_file.txt\", \"r\")\n",
    "\n",
    "animals = []\n",
    "\n",
    "for line in f:\n",
    "    line = line.strip()    \n",
    "    animals.append(line)   \n",
    "\n",
    "print(animals)\n",
    "\n",
    "print(\"Total of animals is: \" + str(len(animals)))\n",
    "\n",
    "#count how many animal names start with a 'l'\n",
    "counter_l = 0\n",
    "for animal in animals:\n",
    "    if animal[0] == 'l':\n",
    "        counter_l = counter_l +1\n",
    "print(\"Total animals whose name starts with 'l': \" + str(counter_l))\n",
    "\n",
    "f.close()   # NOTE: you opened it, now close it."
   ]
  },
  {
   "cell_type": "markdown",
   "metadata": {},
   "source": [
    "And now, a simple example of a file ***write***, with input from the user.\n",
    "\n",
    "Task is: write a small cell that takes in input the scores from students in an exam - as typed in by the teacher - and writes them onto a txt file."
   ]
  },
  {
   "cell_type": "code",
   "execution_count": null,
   "metadata": {
    "collapsed": false
   },
   "outputs": [],
   "source": [
    "f = open(\"output_test_file.txt\", \"w\")\n",
    "\n",
    "while True:\n",
    "    name = raw_input(\"Student name (\\'quit\\' to exit): \")\n",
    "    if name == \"quit\":\n",
    "        break\n",
    "    score = raw_input(\"Score for \" + name + \": \")\n",
    "    f.write(name + \" = \" + score + \"\\n\")\n",
    "    \n",
    "f.close()"
   ]
  },
  {
   "cell_type": "code",
   "execution_count": null,
   "metadata": {
    "collapsed": false,
    "scrolled": true
   },
   "outputs": [],
   "source": [
    "!cat output_test_file.txt"
   ]
  },
  {
   "cell_type": "markdown",
   "metadata": {},
   "source": [
    "_NOTE: sometimes Jupyter to file system connections hangs and messes up the Jupyter kernel. If so, just kill kernel and clear all outputs and restart. This example is for a crash course, not intended to be a good stable solution in production for a students' score recording task._"
   ]
  },
  {
   "cell_type": "markdown",
   "metadata": {},
   "source": [
    "Preparing for another example, we need the input file below."
   ]
  },
  {
   "cell_type": "code",
   "execution_count": null,
   "metadata": {
    "collapsed": false
   },
   "outputs": [],
   "source": [
    "!cat input_test_file_scores.txt\n",
    "\n",
    "#Daniele,18\n",
    "#Luca,30\n",
    "#Antonio,28\n",
    "#Donatella,27\n",
    "#Fabiola,18"
   ]
  },
  {
   "cell_type": "markdown",
   "metadata": {},
   "source": [
    "**QUIZ**: do you understand what each line does, before running the cell?"
   ]
  },
  {
   "cell_type": "code",
   "execution_count": null,
   "metadata": {
    "collapsed": false
   },
   "outputs": [],
   "source": [
    "# read a key-value file and create a dict\n",
    "\n",
    "f = open(\"input_test_file_scores.txt\", \"r\")\n",
    "\n",
    "dict_voti = {}\n",
    "\n",
    "for line in f:\n",
    "    entry = line.strip(\"\\n\").split(\",\")    \n",
    "    #print(entry)\n",
    "    studente = entry[0]                 \n",
    "    voto = entry[1]\n",
    "    print(\"Lo studente \" + studente + \" ha preso \" + voto)\n",
    "    dict_voti[studente] = voto   \n",
    "    \n",
    "f.close()\n",
    "\n",
    "print(dict_voti)"
   ]
  },
  {
   "cell_type": "markdown",
   "metadata": {},
   "source": [
    "## More on this: playing with a directory (and its files)"
   ]
  },
  {
   "cell_type": "markdown",
   "metadata": {},
   "source": [
    "Another module import is needed here."
   ]
  },
  {
   "cell_type": "code",
   "execution_count": null,
   "metadata": {
    "collapsed": false
   },
   "outputs": [],
   "source": [
    "import os\n",
    "\n",
    "directory = \"/Users/bonacor/anaconda/MyPython\"\n",
    "for basepath, listdir, listfiles in os.walk(directory):\n",
    "    print()\n",
    "    print(basepath)\n",
    "    print(listdir)\n",
    "    print(listfiles)"
   ]
  },
  {
   "cell_type": "code",
   "execution_count": null,
   "metadata": {
    "collapsed": false,
    "scrolled": true
   },
   "outputs": [],
   "source": [
    "os.<tab>  # explore and use help!"
   ]
  },
  {
   "cell_type": "markdown",
   "metadata": {},
   "source": [
    "## Recap on data structures"
   ]
  },
  {
   "cell_type": "markdown",
   "metadata": {},
   "source": [
    "### Tuples"
   ]
  },
  {
   "cell_type": "markdown",
   "metadata": {},
   "source": [
    "Tuples are read-only collections of items. Note the () parentheses."
   ]
  },
  {
   "cell_type": "code",
   "execution_count": null,
   "metadata": {
    "collapsed": false
   },
   "outputs": [],
   "source": [
    "a = (1, 2, 3)\n",
    "print(a)"
   ]
  },
  {
   "cell_type": "markdown",
   "metadata": {},
   "source": [
    "### Lists"
   ]
  },
  {
   "cell_type": "markdown",
   "metadata": {},
   "source": [
    "Note the [] parentheses."
   ]
  },
  {
   "cell_type": "code",
   "execution_count": null,
   "metadata": {
    "collapsed": false
   },
   "outputs": [],
   "source": [
    "mylist = [1, 2, 3]\n",
    "print(\"Zeroth Value: %d\" % mylist[0])\n",
    "mylist.append(4)\n",
    "print(\"List Length: %d\" % len(mylist))\n",
    "for value in mylist:\n",
    "    print(value)"
   ]
  },
  {
   "cell_type": "markdown",
   "metadata": {},
   "source": [
    "### Dictionaries"
   ]
  },
  {
   "cell_type": "markdown",
   "metadata": {},
   "source": [
    "Dicts are mappings of names to values, a-la key-value pairs. Note the {} parentheses (and the colon notations) when defining the dictionary."
   ]
  },
  {
   "cell_type": "code",
   "execution_count": null,
   "metadata": {
    "collapsed": false
   },
   "outputs": [],
   "source": [
    "mydict = {'a': 1, 'b': 2, 'c': 3}\n",
    "print(\"A value: %d\" % mydict['a'])\n",
    "mydict['a'] = 11\n",
    "print(\"A value: %d\" % mydict['a'])\n",
    "print(\"Keys: %s\" % mydict.keys())\n",
    "print(\"Values: %s\" % mydict.values())\n",
    "for key in mydict.keys():\n",
    "    print(mydict[key])"
   ]
  },
  {
   "cell_type": "markdown",
   "metadata": {},
   "source": [
    "### Functions"
   ]
  },
  {
   "cell_type": "markdown",
   "metadata": {},
   "source": [
    "Discussed above."
   ]
  },
  {
   "cell_type": "code",
   "execution_count": null,
   "metadata": {
    "collapsed": false
   },
   "outputs": [],
   "source": [
    "# Sum function\n",
    "def mysum(x, y):\n",
    "    return x + y\n",
    "\n",
    "# Main\n",
    "result = mysum(1, 3)\n",
    "print(result)"
   ]
  },
  {
   "cell_type": "markdown",
   "metadata": {
    "collapsed": true
   },
   "source": [
    "## Done. That's all for the \"python 101\" crash course."
   ]
  },
  {
   "cell_type": "markdown",
   "metadata": {
    "collapsed": true
   },
   "source": [
    "The appetizer is over. Yes, it is easy: especially it makes you think you understood everything.. To make sure this is true, this is time for you to move to a major python course."
   ]
  },
  {
   "cell_type": "markdown",
   "metadata": {},
   "source": [
    "## Reading material"
   ]
  },
  {
   "cell_type": "markdown",
   "metadata": {},
   "source": [
    "(Mostly MOOCs here)\n",
    "\n",
    "* The Bible: https://docs.python.org (click on tutorial, select version, and go)\n",
    "* Google Python Class, https://developers.google.com/edu/python/\n",
    "* Programming with Python: Hands-On Introduction for Beginners, https://www.udemy.com/python-programming-beginners\n",
    "* Python for Beginners with Examples, https://www.udemy.com/ardit-sulce-python-for-beginners \n",
    "\n",
    "More on Python3:\n",
    "\n",
    "* Python HOWTOs, invaluable for learning idioms and such (well, Python 3), https://docs.python.org/3/howto/index.html\n",
    "* Python Standard Library Reference (well, Python 3), https://docs.python.org/3/library/index.html"
   ]
  },
  {
   "cell_type": "markdown",
   "metadata": {},
   "source": [
    "## What we have learnt"
   ]
  },
  {
   "cell_type": "markdown",
   "metadata": {},
   "source": [
    "By now, we should be more familiar with\n",
    "   * python basic syntax\n",
    "   * python data structures\n",
    "Thsi should allow us to survive in next steps, i.e. _using python_ for something.."
   ]
  }
 ],
 "metadata": {
  "kernelspec": {
   "display_name": "Python 2",
   "language": "python",
   "name": "python2"
  },
  "language_info": {
   "codemirror_mode": {
    "name": "ipython",
    "version": 2
   },
   "file_extension": ".py",
   "mimetype": "text/x-python",
   "name": "python",
   "nbconvert_exporter": "python",
   "pygments_lexer": "ipython2",
   "version": "2.7.13"
  }
 },
 "nbformat": 4,
 "nbformat_minor": 2
}
