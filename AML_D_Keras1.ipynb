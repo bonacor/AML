{
 "cells": [
  {
   "cell_type": "markdown",
   "metadata": {},
   "source": [
    "# Keras 101"
   ]
  },
  {
   "cell_type": "markdown",
   "metadata": {},
   "source": [
    "_DISCLAIMER : this is NOT a Keras tutorial/course. Please find and follow one, after this appetizer!_"
   ]
  },
  {
   "cell_type": "markdown",
   "metadata": {},
   "source": [
    "Two of the top numerical platforms in Python that provide the basis for DL research and development are Theano and TensorFlow. Both are very powerful libraries, but both can be difficult to use directly for creating DL models. \n",
    "\n",
    "The Keras Python library  provides **a clean and convenient way to create a range of DL models on top of frameworks like Theano or TensorFlow**. \n",
    "\n",
    "Goal for now is to learn:\n",
    "* More about the Keras Python library for DL\n",
    "* How to configure Keras for Theano or TensorFlow\n",
    "* The standard idiom for creating models with Keras."
   ]
  },
  {
   "cell_type": "markdown",
   "metadata": {},
   "source": [
    "## Introduction"
   ]
  },
  {
   "cell_type": "markdown",
   "metadata": {},
   "source": [
    "Keras is a **minimalist Python library for DL** that can run on top of Theano or TensorFlow. \n",
    "\n",
    "It was developed to make developing DL models as fast and easy as possible for research and development. It runs on Python 2.* or 3.* and can seamlessly execute on GPUs and CPUs given the underlying frameworks. It is released under the permissive MIT license. Keras was developed and maintained by Francois Chollet, a Google engineer, using four guiding principles:\n",
    "\n",
    "* **Modularity**: A model can be understood as a sequence or a graph alone. All what concerns a DL model is in form of discrete components that can be combined in arbitrary ways.\n",
    "* **Minimalism**: The library provides just enough to achieve an outcome, no frills and maximizing readability.\n",
    "* **Extensibility**: New components are intentionally easy to add and use within the framework, intended for developers to trial and explore new ideas.\n",
    "* **Python**: No separate model files with custom file formats. Everything is native Python."
   ]
  },
  {
   "cell_type": "markdown",
   "metadata": {},
   "source": [
    "## Keras installation"
   ]
  },
  {
   "cell_type": "markdown",
   "metadata": {},
   "source": [
    "No details given here. I am assuming you have it installed."
   ]
  },
  {
   "cell_type": "markdown",
   "metadata": {},
   "source": [
    "### Theano and TensorFlow Backends for Keras"
   ]
  },
  {
   "cell_type": "markdown",
   "metadata": {},
   "source": [
    "Keras is a **lightweight API** and rather than providing an implementation of the required mathematical operations needed for DL it provides a consistent interface to efficient numerical libraries called **backends**. \n",
    "\n",
    "Assuming you have both Theano and TensorFlow installed, or at least TF, you can configure the backend used by Keras. The easiest way is by adding or editing the Keras configuration file in your home directory:"
   ]
  },
  {
   "cell_type": "code",
   "execution_count": 1,
   "metadata": {
    "collapsed": false
   },
   "outputs": [
    {
     "name": "stdout",
     "output_type": "stream",
     "text": [
      "{\r\n",
      "    \"epsilon\": 1e-07, \r\n",
      "    \"floatx\": \"float32\", \r\n",
      "    \"image_data_format\": \"channels_last\", \r\n",
      "    \"backend\": \"tensorflow\"\r\n",
      "}"
     ]
    }
   ],
   "source": [
    "!cat ~/.keras/keras.json"
   ]
  },
  {
   "cell_type": "markdown",
   "metadata": {},
   "source": [
    "In this configuration file you can change the backend property e.g. from `tensorflow` (the default) to `theano`. Keras will then use the configuration the next time it is run. You can confirm the backend used by Keras using the following script on the command line:"
   ]
  },
  {
   "cell_type": "code",
   "execution_count": 2,
   "metadata": {
    "collapsed": false
   },
   "outputs": [
    {
     "name": "stdout",
     "output_type": "stream",
     "text": [
      "Using TensorFlow backend.\n",
      "tensorflow\n"
     ]
    }
   ],
   "source": [
    "!python -c \"from keras import backend; print(backend._BACKEND)\""
   ]
  },
  {
   "cell_type": "markdown",
   "metadata": {},
   "source": [
    "You can also specify the backend to use by Keras on the command line by specifying the\n",
    "KERAS BACKEND environment variable, as follows:\n",
    "\n",
    "    KERAS_BACKEND=theano python -c \"from keras import backend; print(backend._BACKEND)\""
   ]
  },
  {
   "cell_type": "code",
   "execution_count": 3,
   "metadata": {
    "collapsed": false,
    "scrolled": true
   },
   "outputs": [
    {
     "name": "stderr",
     "output_type": "stream",
     "text": [
      "Using TensorFlow backend.\n"
     ]
    }
   ],
   "source": [
    "import keras"
   ]
  },
  {
   "cell_type": "markdown",
   "metadata": {},
   "source": [
    "If you see this, you are ready to go!"
   ]
  },
  {
   "cell_type": "markdown",
   "metadata": {},
   "source": [
    "## Build Deep Learning Models with Keras"
   ]
  },
  {
   "cell_type": "markdown",
   "metadata": {},
   "source": [
    "The focus of Keras is the idea of a model.\n",
    "\n",
    "The main type of model is a **sequence of layers** called a $Sequential$, indeed a linear stack of layers. You create a `Sequential` and add layers to it in the order that you wish for the computation to be performed. Once defined, you compile the model which makes use of the underlying framework to optimize the computation to be performed by your model. In this you can specify the loss function and the optimizer to be used.\n",
    "\n",
    "Once compiled, the model must be fit to data. This can be done one batch of data at a time or by firing off the entire model training regime. This is where all the compute happens. Once trained, you can use your model to make predictions on new data. \n",
    "\n",
    "We can summarize the construction of DL models in Keras as follows:\n",
    "1. ***Define your model***. Create a `Sequential` model and add configured layers.\n",
    "2. ***Compile your model***. Specify loss function and optimizers and call the `compile()` function on the model.\n",
    "3. ***Fit your model***. Train the model on a sample of data by calling the `fit()` function on the model.\n",
    "4. ***Make predictions***. Use the model to generate predictions on new data by calling functions such as `evaluate()` or `predict()` on the model."
   ]
  },
  {
   "cell_type": "markdown",
   "metadata": {},
   "source": [
    "## Summary"
   ]
  },
  {
   "cell_type": "markdown",
   "metadata": {},
   "source": [
    "What we learned:\n",
    "\n",
    "* basics of Keras\n",
    "\n",
    "i.e.\n",
    "\n",
    "* the Keras Python library for DL research and development\n",
    "* Keras wraps both the TensorFlow and Theano libraries, abstracting their capabilities and hiding their complexity\n",
    "* Keras is designed for minimalism and modularity allowing you to very quickly define deep learning models\n",
    "* Keras DL models can be developed using an idiom of defining, compiling and fitting models that can then be evaluated or used to make predictions."
   ]
  },
  {
   "cell_type": "markdown",
   "metadata": {},
   "source": [
    "## What's next "
   ]
  },
  {
   "cell_type": "markdown",
   "metadata": {},
   "source": [
    "Try it out!"
   ]
  },
  {
   "cell_type": "code",
   "execution_count": null,
   "metadata": {
    "collapsed": true
   },
   "outputs": [],
   "source": []
  }
 ],
 "metadata": {
  "kernelspec": {
   "display_name": "Python 2",
   "language": "python",
   "name": "python2"
  },
  "language_info": {
   "codemirror_mode": {
    "name": "ipython",
    "version": 2
   },
   "file_extension": ".py",
   "mimetype": "text/x-python",
   "name": "python",
   "nbconvert_exporter": "python",
   "pygments_lexer": "ipython2",
   "version": "2.7.13"
  }
 },
 "nbformat": 4,
 "nbformat_minor": 2
}
