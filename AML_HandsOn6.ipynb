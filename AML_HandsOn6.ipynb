{
 "cells": [
  {
   "cell_type": "markdown",
   "metadata": {},
   "source": [
    "## Matplotlib 101 (a crash course for students)"
   ]
  },
  {
   "cell_type": "markdown",
   "metadata": {},
   "source": [
    "Just something quick and simple on ***Matplotlib***. This is another key Python library used for ML you need to know something about.\n",
    "\n",
    "*DISCLAIMER: This material has to be intended as a pragmatic shortcut to move on, and should NOT stop you from attending a complete Matplotlib course/tutorial*"
   ]
  },
  {
   "cell_type": "markdown",
   "metadata": {},
   "source": [
    "## Introduction"
   ]
  },
  {
   "cell_type": "markdown",
   "metadata": {},
   "source": [
    "Matplotlib is used for creating charts and plots. It is a big library, usually used as follows:\n",
    "\n",
    "* you call a function to plot some data in some ways (e.g. .plot());\n",
    "* you call many more functions to set-up the properties (colors, labels, etc) of the chart you want to display;\n",
    "* you display the chart (e.g. .show()).\n",
    "\n",
    "We will just go through basics of most commonly needed chart types. "
   ]
  },
  {
   "cell_type": "code",
   "execution_count": null,
   "metadata": {
    "collapsed": false
   },
   "outputs": [],
   "source": [
    "# Import the necessary packages and modules\n",
    "%matplotlib inline   \n",
    "                     # a magic function that renders the figure in a %notebook\n",
    "                     # (instead of displaying a dump of the fig object)\n",
    "\n",
    "import numpy as np   # NOTE: in past 101 tutorials, we did not always use this syntax. \n",
    "                     # This is probably the best, most common, and concise. Review what you did differently.\n",
    "import matplotlib.pyplot as plt"
   ]
  },
  {
   "cell_type": "markdown",
   "metadata": {},
   "source": [
    "## A caveat before starting"
   ]
  },
  {
   "cell_type": "markdown",
   "metadata": {},
   "source": [
    "**This is intended to show you a bit of what you can do, and quickly. Most value of this is for you to keep and EXPAND it with plotting features you like or might need, so that it will become your own repository of code to reuse in your ML projects**."
   ]
  },
  {
   "cell_type": "markdown",
   "metadata": {},
   "source": [
    "### A first, simple, line plot"
   ]
  },
  {
   "cell_type": "markdown",
   "metadata": {},
   "source": [
    "Generate some data, using Numpy linspace. Numpy linspace returns evenly spaced numbers over a specified interval."
   ]
  },
  {
   "cell_type": "code",
   "execution_count": null,
   "metadata": {
    "collapsed": true
   },
   "outputs": [],
   "source": [
    "# Prepare the data\n",
    "x = np.linspace(0, 10, 100)"
   ]
  },
  {
   "cell_type": "markdown",
   "metadata": {},
   "source": [
    "NOTE: Remember to always use help functionalities, or lazily-and-quickly google it appropriately.."
   ]
  },
  {
   "cell_type": "markdown",
   "metadata": {},
   "source": [
    "You can do a quick plotting if you wish, and you are done:"
   ]
  },
  {
   "cell_type": "code",
   "execution_count": null,
   "metadata": {
    "collapsed": false
   },
   "outputs": [],
   "source": [
    "plt.plot(x, x)\n",
    "#plt.show()"
   ]
  },
  {
   "cell_type": "markdown",
   "metadata": {},
   "source": [
    "But usually you want first to:\n",
    "   * define the x and y axes labels\n",
    "   * add a legend\n",
    "   * and then plot\n",
    "\n",
    "This builds up to this sequence of operations (NOTE: they may vary, matplotlib allows various combinations of options, ordering, etc.. - this is just an example):"
   ]
  },
  {
   "cell_type": "code",
   "execution_count": null,
   "metadata": {
    "collapsed": false
   },
   "outputs": [],
   "source": [
    "# define the axis\n",
    "plt.xlabel('some x axis')\n",
    "plt.ylabel('some y axis')\n",
    "\n",
    "# Plot the data\n",
    "plt.plot(x, x, label='This is my linear plot')\n",
    "\n",
    "# Add a legend\n",
    "plt.legend()\n",
    "\n",
    "# Show the plot\n",
    "#plt.show()"
   ]
  },
  {
   "cell_type": "markdown",
   "metadata": {},
   "source": [
    "It is as simple as this to get a first plot in Matplotlib. More on the available options later."
   ]
  },
  {
   "cell_type": "markdown",
   "metadata": {},
   "source": [
    "### Line plot from a Numpy array"
   ]
  },
  {
   "cell_type": "markdown",
   "metadata": {},
   "source": [
    "You might have an array, and want to plot it as y-values, corresponding to equally saparated x-values."
   ]
  },
  {
   "cell_type": "code",
   "execution_count": null,
   "metadata": {
    "collapsed": false,
    "scrolled": true
   },
   "outputs": [],
   "source": [
    "A = np.array([1, 1.5, 8, 10, 10, 12])\n",
    "plt.plot(A, label='This is another linear plot, from a Numpy array')\n",
    "plt.legend()\n",
    "#plt.show()"
   ]
  },
  {
   "cell_type": "markdown",
   "metadata": {},
   "source": [
    "Note that by defaut this is showing your (y) values equi-distanciated in x, and with integer labels."
   ]
  },
  {
   "cell_type": "markdown",
   "metadata": {},
   "source": [
    "### Plot a function"
   ]
  },
  {
   "cell_type": "markdown",
   "metadata": {},
   "source": [
    "Plot a function:"
   ]
  },
  {
   "cell_type": "code",
   "execution_count": null,
   "metadata": {
    "collapsed": false
   },
   "outputs": [],
   "source": [
    "plt.plot(x, np.sin(x), label='This is a sin function');\n",
    "plt.legend()\n",
    "#plt.show()"
   ]
  },
  {
   "cell_type": "markdown",
   "metadata": {},
   "source": [
    "Plot more functions on the same plot:"
   ]
  },
  {
   "cell_type": "code",
   "execution_count": null,
   "metadata": {
    "collapsed": false
   },
   "outputs": [],
   "source": [
    "plt.plot(x, np.sin(x), label='This is a sin(x) function');\n",
    "plt.plot(x, np.cos(x), label='This is a cos(x) function');\n",
    "#plt.plot(x, np.sin(x*2), label='This is a sin(x*2) function');\n",
    "plt.legend()\n",
    "plt.show()"
   ]
  },
  {
   "cell_type": "markdown",
   "metadata": {},
   "source": [
    "That’s all there is to plotting simple functions in matplotlib.\n",
    "\n",
    "Below we will (briefly) dive into some more details about how to control the appearance of the axes and lines."
   ]
  },
  {
   "cell_type": "markdown",
   "metadata": {},
   "source": [
    "### Adjust line colors and styles"
   ]
  },
  {
   "cell_type": "markdown",
   "metadata": {},
   "source": [
    "The first adjustment you might want to make to a plot is to control the line colors and styles. \n",
    "\n",
    "**NOTE: this is not aesthetics only: plot readability is a considerable asset in data science.**\n",
    "\n",
    "All is based on the `plt.plot()` function. It takes additional arguments, which can be used to specify almost all you want to customize. All can be found in the Matplotlib `plt.plot()` documentation, but as a quick intro:\n",
    "\n",
    "   * to adjust the color, you can use the `color` keyword, which accepts a string argument representing virtually any imaginable color. The color can be specified in a variety of ways.\n",
    "   "
   ]
  },
  {
   "cell_type": "code",
   "execution_count": null,
   "metadata": {
    "collapsed": false
   },
   "outputs": [],
   "source": [
    "plt.plot(x, np.sin(x - 0), color='blue')        # specify color by its name\n",
    "plt.plot(x, np.sin(x - 1), color='g')           # standard short color code (works for rgb & cmyk)\n",
    "plt.plot(x, np.sin(x - 2), color='0.75')        # greyscale only - between 0 and 1\n",
    "plt.plot(x, np.sin(x - 3), color='#FFDD44')     # Hex color code (RRGGBB from 00 to FF)\n",
    "plt.plot(x, np.sin(x - 4), color=(1.0,0.2,0.3)) # RGB tuple, between 0 and 1\n",
    "plt.plot(x, np.sin(x - 5), color='chartreuse')  # all HTML color names are supported - check HTML documentation"
   ]
  },
  {
   "cell_type": "markdown",
   "metadata": {},
   "source": [
    "Note that if no color is specified, matplotib will automatically cycle through a set of default colors for the lines."
   ]
  },
  {
   "cell_type": "markdown",
   "metadata": {},
   "source": [
    "Now let's move to:\n",
    "\n",
    "   * line style: it can be adjusted using the `linestyle` keyword."
   ]
  },
  {
   "cell_type": "code",
   "execution_count": null,
   "metadata": {
    "collapsed": false
   },
   "outputs": [],
   "source": [
    "plt.plot(x, x + 0, linestyle='solid')\n",
    "plt.plot(x, x + 1, linestyle='dashed')\n",
    "plt.plot(x, x + 2, linestyle='dashdot')\n",
    "plt.plot(x, x + 3, linestyle='dotted');"
   ]
  },
  {
   "cell_type": "code",
   "execution_count": null,
   "metadata": {
    "collapsed": false
   },
   "outputs": [],
   "source": [
    "# For short, you can use the following codes:\n",
    "plt.plot(x, x + 4, linestyle='-')  # solid\n",
    "plt.plot(x, x + 5, linestyle='--') # dashed\n",
    "plt.plot(x, x + 6, linestyle='-.') # dashdot\n",
    "plt.plot(x, x + 7, linestyle=':')  # dotted;"
   ]
  },
  {
   "cell_type": "markdown",
   "metadata": {},
   "source": [
    "Some like it, some don't, but if you would like your code to be extremely terse, all existing linestyle codes and color codes can be combined into a single non-keyword argument to the `plt.plot()` function, as follows:"
   ]
  },
  {
   "cell_type": "code",
   "execution_count": null,
   "metadata": {
    "collapsed": false
   },
   "outputs": [],
   "source": [
    "plt.plot(x, x + 0, '-g')  # solid green\n",
    "plt.plot(x, x + 1, '--c') # dashed cyan\n",
    "plt.plot(x, x + 2, '-.k') # dashdot black\n",
    "plt.plot(x, x + 3, ':r')  # dotted red;"
   ]
  },
  {
   "cell_type": "markdown",
   "metadata": {},
   "source": [
    "There are many other keyword arguments that can be used to fine-tune the appearance of the plot: for more details, refer to matplotib’s online documentation, or the docstring of the `plt.plot()` function."
   ]
  },
  {
   "cell_type": "markdown",
   "metadata": {},
   "source": [
    "### Axes limits"
   ]
  },
  {
   "cell_type": "markdown",
   "metadata": {},
   "source": [
    "Matplotlib does a fairly good job of choosing default axes limits for your plot. \n",
    "\n",
    "But sometimes it is needed to have finer control. So, here we will briefly see how to change the limits of the x and y axes. The most basic way to do this is to use the `plt.xlim()` and `plt.ylim()` methods to set the numerical limits of the x and y axes. \n",
    "\n",
    "Suppose to plot this:"
   ]
  },
  {
   "cell_type": "code",
   "execution_count": null,
   "metadata": {
    "collapsed": false
   },
   "outputs": [],
   "source": [
    "plt.plot(x, np.sin(x))"
   ]
  },
  {
   "cell_type": "markdown",
   "metadata": {},
   "source": [
    "Matplotlib creates x-axis to show (0;10) and y-axis to show (-1;+1) automatically. \n",
    "\n",
    "Suppose you want to change this: here is how."
   ]
  },
  {
   "cell_type": "code",
   "execution_count": null,
   "metadata": {
    "collapsed": false
   },
   "outputs": [],
   "source": [
    "plt.plot(x, np.sin(x))\n",
    "plt.xlim(-2, 12)\n",
    "plt.ylim(-2, 3);"
   ]
  },
  {
   "cell_type": "markdown",
   "metadata": {},
   "source": [
    "A useful related method is `plt.axis()` (NOTE: there is a potential confusion between axes with an e, and axis with an i). This method allows you to set the x and y limits with a single call, by passing a list which specifies [xmin, xmax, ymin, ymax]. This is probably something you want in your code.."
   ]
  },
  {
   "cell_type": "code",
   "execution_count": null,
   "metadata": {
    "collapsed": false,
    "scrolled": true
   },
   "outputs": [],
   "source": [
    "plt.plot(x, np.sin(x))\n",
    "plt.axis([-2, 12, -2, 3])"
   ]
  },
  {
   "cell_type": "markdown",
   "metadata": {},
   "source": [
    "Same as above, of course."
   ]
  },
  {
   "cell_type": "markdown",
   "metadata": {},
   "source": [
    "The `plt.axis()` method allows you to do things like automatically tighten the bounds around the current plot. What Matplot lib does as default can be expressed exactly in this way. Use it if you got stuck in settings you do not like.."
   ]
  },
  {
   "cell_type": "code",
   "execution_count": null,
   "metadata": {
    "collapsed": false
   },
   "outputs": [],
   "source": [
    "plt.plot(x, np.sin(x))\n",
    "plt.axis('tight');"
   ]
  },
  {
   "cell_type": "markdown",
   "metadata": {},
   "source": [
    "And this open other options, e.g. it allows higher-level specifications such as ensuring an equal aspect ratio so that one unit in x is equal to one unit in y:"
   ]
  },
  {
   "cell_type": "code",
   "execution_count": null,
   "metadata": {
    "collapsed": false,
    "scrolled": true
   },
   "outputs": [],
   "source": [
    "plt.plot(x, np.sin(x))\n",
    "plt.axis('equal');"
   ]
  },
  {
   "cell_type": "markdown",
   "metadata": {},
   "source": [
    "For more information on axis limits and the other capabilities of the plt.axis method, refer to matplotlib’s online documentation."
   ]
  },
  {
   "cell_type": "markdown",
   "metadata": {},
   "source": [
    "## Labelling plots"
   ]
  },
  {
   "cell_type": "markdown",
   "metadata": {},
   "source": [
    "Titles and axis labels are the simplest of these: there are methods which can be used to quickly set these. We have seen axis labels, let's go beyond."
   ]
  },
  {
   "cell_type": "code",
   "execution_count": null,
   "metadata": {
    "collapsed": false
   },
   "outputs": [],
   "source": [
    "plt.plot(x, np.sin(x))\n",
    "plt.title(\"A Sine Curve\")\n",
    "plt.xlabel(\"x\")\n",
    "plt.ylabel(\"sin(x)\");"
   ]
  },
  {
   "cell_type": "markdown",
   "metadata": {},
   "source": [
    "The position, size, and style of these labels can be adjusted using optional arguments to the function. For more information, see the matplotlib documentation and the docstrings of each of these functions."
   ]
  },
  {
   "cell_type": "markdown",
   "metadata": {},
   "source": [
    "When multiple lines are being shown within a single axes, it can be useful to create a plot legend that labels each line type. Again, Matplotlib has a built-in way of quickly creating such a legend. It is done via the `plt.legend()` method. \n",
    "\n",
    "There are several valid ways of using this. Perhaps it is easiest to specify the label of each line using the label keyword of the plot function."
   ]
  },
  {
   "cell_type": "code",
   "execution_count": null,
   "metadata": {
    "collapsed": false,
    "scrolled": true
   },
   "outputs": [],
   "source": [
    "plt.plot(x, np.sin(x), '-r', label='sin(x)')\n",
    "plt.plot(x, np.cos(x), ':b', label='cos(x)')\n",
    "plt.axis('equal')\n",
    "plt.legend()"
   ]
  },
  {
   "cell_type": "markdown",
   "metadata": {},
   "source": [
    "As you can see, the `plt.legend()` function keeps track of the line style and color, and matches these with the correct label. More information on specifying and formatting plot legends can be found in the `plt.legend` doc string."
   ]
  },
  {
   "cell_type": "markdown",
   "metadata": {},
   "source": [
    "More plot types can be done. Refer to documentation for all details. Only some examples below."
   ]
  },
  {
   "cell_type": "markdown",
   "metadata": {},
   "source": [
    "## Scatter plot"
   ]
  },
  {
   "cell_type": "code",
   "execution_count": null,
   "metadata": {
    "collapsed": false,
    "scrolled": true
   },
   "outputs": [],
   "source": [
    "x = np.array([1, 2, 4])\n",
    "y = np.array([2, 4, 20])\n",
    "plt.scatter(x,y)\n",
    "plt.xlabel('some x axis')\n",
    "plt.ylabel('some y axis')"
   ]
  },
  {
   "cell_type": "markdown",
   "metadata": {},
   "source": [
    "## Plot a 2D array"
   ]
  },
  {
   "cell_type": "code",
   "execution_count": null,
   "metadata": {
    "collapsed": false
   },
   "outputs": [],
   "source": [
    "a = np.random.rand(10,10)\n",
    "plt.imshow(a, cmap='jet')\n",
    "#plt.show()"
   ]
  },
  {
   "cell_type": "markdown",
   "metadata": {},
   "source": [
    "## Plot a histogram"
   ]
  },
  {
   "cell_type": "code",
   "execution_count": null,
   "metadata": {
    "collapsed": false
   },
   "outputs": [],
   "source": [
    "a = np.random.randn(10000)\n",
    "plt.hist(a,25)\n",
    "#plt.show()"
   ]
  },
  {
   "cell_type": "markdown",
   "metadata": {
    "collapsed": true
   },
   "source": [
    "## BONUS FEATURE: Interactive plots"
   ]
  },
  {
   "cell_type": "code",
   "execution_count": null,
   "metadata": {
    "collapsed": false
   },
   "outputs": [],
   "source": [
    "from IPython.html.widgets import interact\n",
    "\n",
    "def plot_sine(frequency=1.0, amplitude=1.0):\n",
    "    plt.ylim(-1.0, 1.0);\n",
    "    x = np.linspace(0, 10, 1000)\n",
    "    plt.plot(x, amplitude*np.sin(x*frequency));\n",
    "\n",
    "interact(plot_sine, frequency=(0.5, 10.0), amplitude=(0.0, 1.0));"
   ]
  },
  {
   "cell_type": "markdown",
   "metadata": {
    "collapsed": true
   },
   "source": [
    "## Done. That's all for the \"Matplotlib 101\" crash course."
   ]
  },
  {
   "cell_type": "markdown",
   "metadata": {
    "collapsed": true
   },
   "source": [
    "The appetizer is over. Time for you to move to the main course, i.e. a good Matplotlib course and/or tutorial."
   ]
  },
  {
   "cell_type": "markdown",
   "metadata": {},
   "source": [
    "## What we have learnt"
   ]
  },
  {
   "cell_type": "markdown",
   "metadata": {},
   "source": [
    "How to do some basics plots with Matplotlib. For plenty of more details, refer to the official Matplotlib documentation."
   ]
  },
  {
   "cell_type": "markdown",
   "metadata": {},
   "source": [
    "## Reading material"
   ]
  },
  {
   "cell_type": "markdown",
   "metadata": {},
   "source": [
    "* Matplotlib gallery of plot types and sample code, http://matplotlib.org/gallery.html\n",
    "* Matplotlib Beginners Guide, http://matplotlib.org/users/beginner.html\n",
    "* Matplotlib API Reference, http://matplotlib.org/api/index.html"
   ]
  }
 ],
 "metadata": {
  "kernelspec": {
   "display_name": "Python 2",
   "language": "python",
   "name": "python2"
  },
  "language_info": {
   "codemirror_mode": {
    "name": "ipython",
    "version": 2
   },
   "file_extension": ".py",
   "mimetype": "text/x-python",
   "name": "python",
   "nbconvert_exporter": "python",
   "pygments_lexer": "ipython2",
   "version": "2.7.13"
  },
  "widgets": {
   "state": {
    "d788e0c1aebc43fca48580f2de596fd2": {
     "views": [
      {
       "cell_index": 64
      }
     ]
    }
   },
   "version": "1.2.0"
  }
 },
 "nbformat": 4,
 "nbformat_minor": 2
}
